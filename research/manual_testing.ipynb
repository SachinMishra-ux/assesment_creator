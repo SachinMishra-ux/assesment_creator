{
 "cells": [
  {
   "cell_type": "code",
   "execution_count": 1,
   "metadata": {},
   "outputs": [],
   "source": [
    "url= \"https://docs.google.com/forms/d/1WLfwaz1fuiueMGE8iEigwjZSP2HEUPGlyIWE9QNYhpg/edit\""
   ]
  },
  {
   "cell_type": "code",
   "execution_count": 2,
   "metadata": {},
   "outputs": [],
   "source": [
    "url1=\"https://www.youtube.com/watch?v=tku5zP1VzXA\""
   ]
  },
  {
   "attachments": {},
   "cell_type": "markdown",
   "metadata": {},
   "source": []
  },
  {
   "cell_type": "code",
   "execution_count": 3,
   "metadata": {},
   "outputs": [],
   "source": [
    "from assesment_creator import create_assesment"
   ]
  },
  {
   "cell_type": "code",
   "execution_count": 5,
   "metadata": {},
   "outputs": [
    {
     "name": "stdout",
     "output_type": "stream",
     "text": [
      "6\n"
     ]
    },
    {
     "data": {
      "text/plain": [
       "'Scraping done successfully! Check sbc 😀 Thank you!'"
      ]
     },
     "execution_count": 5,
     "metadata": {},
     "output_type": "execute_result"
    }
   ],
   "source": [
    "create_assesment(url,'sbc')"
   ]
  },
  {
   "cell_type": "code",
   "execution_count": null,
   "metadata": {},
   "outputs": [],
   "source": []
  },
  {
   "cell_type": "code",
   "execution_count": null,
   "metadata": {},
   "outputs": [],
   "source": []
  },
  {
   "cell_type": "code",
   "execution_count": null,
   "metadata": {},
   "outputs": [],
   "source": []
  },
  {
   "cell_type": "code",
   "execution_count": null,
   "metadata": {},
   "outputs": [],
   "source": []
  },
  {
   "cell_type": "code",
   "execution_count": null,
   "metadata": {},
   "outputs": [],
   "source": [
    "def output_file(file_name:str) -> str:\n",
    "    output_file= \"\"\n",
    "    splitted_file_name = file_name.split(\".\")\n",
    "\n",
    "    if \".\" in file_name and splitted_file_name[-1] != \"docx\" : \n",
    "        output_file = splitted_file_name[0] + \".docx\"\n",
    "\n",
    "    elif \".\" not in file_name:\n",
    "        output_file = file_name + \".docx\"\n",
    "    return output_file"
   ]
  },
  {
   "cell_type": "code",
   "execution_count": null,
   "metadata": {},
   "outputs": [
    {
     "data": {
      "text/plain": [
       "'fsxsf1.docx'"
      ]
     },
     "execution_count": 11,
     "metadata": {},
     "output_type": "execute_result"
    }
   ],
   "source": [
    "output_file('fsxsf1')"
   ]
  },
  {
   "cell_type": "code",
   "execution_count": null,
   "metadata": {},
   "outputs": [],
   "source": [
    "import docx\n",
    "import os"
   ]
  },
  {
   "cell_type": "code",
   "execution_count": null,
   "metadata": {},
   "outputs": [],
   "source": [
    "qno_lis= [('[True or False] Regularization is a technique which makes slight modifications to the learning algorithm such that the model generalizes better.',\n",
    "  ''),\n",
    " ('', 'True'),\n",
    " ('', 'False'),\n",
    " ('[True or False] The dense layer connects all the inputs and outputs of all the neurons in each layer.',\n",
    "  ''),\n",
    " ('', 'True'),\n",
    " ('', 'False')]"
   ]
  },
  {
   "cell_type": "code",
   "execution_count": null,
   "metadata": {},
   "outputs": [],
   "source": [
    "def create_docx(qno_list:list, output_file:str = \"assessment.docx\") -> None:\n",
    "\n",
    "    doc = docx.Document()\n",
    "    #Add a Title to the document\n",
    "    doc.add_heading('Assesment', 0)\n",
    "    for i, qno in enumerate(qno_list):\n",
    "        if len(qno[0])!=0:\n",
    "            doc.add_paragraph(str(qno[0]))\n",
    "        else:\n",
    "            doc.add_paragraph(str(qno[1]))\n",
    "    os.makedirs(\"data\", exist_ok=True)\n",
    "    doc.save(os.path.join(os.path.curdir, \"data\", output_file))"
   ]
  },
  {
   "cell_type": "code",
   "execution_count": null,
   "metadata": {},
   "outputs": [],
   "source": [
    "create_docx(qno_lis,'fsxsf1.docx')"
   ]
  }
 ],
 "metadata": {
  "kernelspec": {
   "display_name": "Python 3",
   "language": "python",
   "name": "python3"
  },
  "language_info": {
   "codemirror_mode": {
    "name": "ipython",
    "version": 3
   },
   "file_extension": ".py",
   "mimetype": "text/x-python",
   "name": "python",
   "nbconvert_exporter": "python",
   "pygments_lexer": "ipython3",
   "version": "3.8.17"
  },
  "orig_nbformat": 4
 },
 "nbformat": 4,
 "nbformat_minor": 2
}
